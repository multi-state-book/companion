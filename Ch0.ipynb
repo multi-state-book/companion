{
  "cells": [
    {
      "cell_type": "markdown",
      "metadata": {},
      "source": [
        "## SAS\n",
        "\n",
        "\n",
        "````{verbatim}\n",
        "proc means data=sashelp.class;\n",
        "run;\n",
        "````"
      ],
      "id": "662a9d01"
    }
  ],
  "metadata": {
    "kernelspec": {
      "display_name": "Python 3",
      "language": "python",
      "name": "python3"
    }
  },
  "nbformat": 4,
  "nbformat_minor": 5
}